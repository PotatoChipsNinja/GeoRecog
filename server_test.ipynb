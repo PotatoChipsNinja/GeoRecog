{
 "cells": [
  {
   "cell_type": "code",
   "execution_count": 4,
   "metadata": {},
   "outputs": [],
   "source": [
    "import time\n",
    "import json\n",
    "import requests\n",
    "import threading"
   ]
  },
  {
   "cell_type": "code",
   "execution_count": 2,
   "metadata": {},
   "outputs": [],
   "source": [
    "def get_api_response(content):\n",
    "    api_url = 'http://127.0.0.1:8000/query'\n",
    "    data = {\n",
    "        \"content\": content\n",
    "    }\n",
    "    response = requests.get(api_url, params=data)\n",
    "    if response.status_code != 200:\n",
    "        return None\n",
    "    ans = json.loads(response.content)\n",
    "    return ans"
   ]
  },
  {
   "cell_type": "code",
   "execution_count": 6,
   "metadata": {},
   "outputs": [
    {
     "data": {
      "text/plain": [
       "{'province': '河南', 'city': '周口'}"
      ]
     },
     "execution_count": 6,
     "metadata": {},
     "output_type": "execute_result"
    }
   ],
   "source": [
    "content = \"【#女子称养父去世后堂哥要求继承房产# 村支书回应】近日，河南周口一女子发视频称，堂哥“霸占”养父的房子土地。女子表示，养父2019年去世，因自己是女性，由堂哥在葬礼仪式上摔盆送养父下葬，于是堂哥要求继承养父的房子和土地。\"\n",
    "get_api_response(content)"
   ]
  },
  {
   "cell_type": "markdown",
   "metadata": {},
   "source": [
    "并发性能测试（单位：秒）"
   ]
  },
  {
   "cell_type": "code",
   "execution_count": 10,
   "metadata": {},
   "outputs": [],
   "source": [
    "def benchmark(N):\n",
    "    query_list = [content] * N\n",
    "    threads = []\n",
    "    results = []\n",
    "\n",
    "    start = time.time()\n",
    "    for query in query_list:\n",
    "        t = threading.Thread(target=lambda q: results.append(get_api_response(q)), args=(query,))\n",
    "        threads.append(t)\n",
    "        t.start()\n",
    "    for t in threads:\n",
    "        t.join()\n",
    "    end = time.time()\n",
    "\n",
    "    print(\"Total time: \", end - start)\n",
    "    print(\"Average time: \", (end - start) / N)"
   ]
  },
  {
   "cell_type": "code",
   "execution_count": 12,
   "metadata": {},
   "outputs": [
    {
     "name": "stdout",
     "output_type": "stream",
     "text": [
      "Total time:  70.34446430206299\n",
      "Average time:  0.7034446430206299\n"
     ]
    }
   ],
   "source": [
    "# 1 * A800 80G\n",
    "benchmark(100)"
   ]
  },
  {
   "cell_type": "code",
   "execution_count": 11,
   "metadata": {},
   "outputs": [
    {
     "name": "stdout",
     "output_type": "stream",
     "text": [
      "Total time:  35.72747325897217\n",
      "Average time:  0.3572747325897217\n"
     ]
    }
   ],
   "source": [
    "# 2 * A800 80G\n",
    "benchmark(100)"
   ]
  },
  {
   "cell_type": "code",
   "execution_count": 14,
   "metadata": {},
   "outputs": [
    {
     "name": "stdout",
     "output_type": "stream",
     "text": [
      "Total time:  18.674237728118896\n",
      "Average time:  0.18674237728118898\n"
     ]
    }
   ],
   "source": [
    "# 4 * A800 80G\n",
    "benchmark(100)"
   ]
  },
  {
   "cell_type": "code",
   "execution_count": 18,
   "metadata": {},
   "outputs": [
    {
     "name": "stdout",
     "output_type": "stream",
     "text": [
      "Total time:  9.590891122817993\n",
      "Average time:  0.09590891122817993\n"
     ]
    }
   ],
   "source": [
    "# 8 * A800 80G\n",
    "benchmark(100)"
   ]
  }
 ],
 "metadata": {
  "kernelspec": {
   "display_name": "vllm",
   "language": "python",
   "name": "python3"
  },
  "language_info": {
   "codemirror_mode": {
    "name": "ipython",
    "version": 3
   },
   "file_extension": ".py",
   "mimetype": "text/x-python",
   "name": "python",
   "nbconvert_exporter": "python",
   "pygments_lexer": "ipython3",
   "version": "3.11.9"
  }
 },
 "nbformat": 4,
 "nbformat_minor": 2
}
